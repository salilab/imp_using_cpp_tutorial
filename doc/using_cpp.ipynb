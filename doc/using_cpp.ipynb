{
  "cells": [
    {
      "cell_type": "markdown",
      "metadata": {},
      "source": [
        "Using IMP as a C++ library<a id=\"mainpage\"></a>\n",
        "==========================\n",
        "\n",
        "**Table of contents**\n",
        "\n",
        " - [Introduction](#introduction)\n",
        " - [Test program](#program)\n",
        " - [FindIMP CMake module](#findimp)\n",
        " - [CMake script (CMakeLists.txt)](#cmakelists)\n",
        " - [Build and run](#buildrun)\n"
      ]
    },
    {
      "cell_type": "markdown",
      "metadata": {},
      "source": [
        "# Introduction<a id=\"introduction\"></a>\n",
        "\n",
        "IMP is most commonly used as a Python library, controlled by writing Python\n",
        "scripts. To add additional functionality to IMP, usually a new\n",
        "[IMP module](https://integrativemodeling.org/tutorials/coding/) is added.\n",
        "\n",
        "However, IMP can also be used in other C++ code as a C++ library. This can\n",
        "be useful, for example, in writing command line tools that use IMP\n",
        "functionality.\n",
        "\n",
        "In this tutorial, we will demonstrate how to compile and link a simple C++\n",
        "program against the IMP library using the\n",
        "[CMake build system](https://cmake.org/). (CMake is not *required* to build C++ code - the C++ compiler can be run directly if desired - but CMake takes care of adding the various search paths for headers and libraries that the C++ compiler requires.)\n",
        "\n",
        "First, download the files for this tutorial by using the \"Clone or download\"\n",
        "link at the [tutorial's GitHub page](https://github.com/salilab/imp_using_cpp_tutorial/)."
      ]
    },
    {
      "cell_type": "markdown",
      "metadata": {},
      "source": [
        "# Test program<a id=\"program\"></a>\n",
        "\n",
        "First, let's look at the C++ program that will use IMP functionality,\n",
        "[simple.cpp](https://github.com/salilab/imp_using_cpp_tutorial/blob/master/simple.cpp):"
      ]
    },
    {
      "cell_type": "markdown",
      "metadata": {},
      "source": [
        "```cpp\n",
        "/** \\example core/simple.cpp\n\n    Simple example of using the IMP C++ library.\n\n    This should be equivalent to the first part of the Python example simple.py.\n*/\n\n#include <fstream>\n\n#include <IMP.h>\n#include <IMP/algebra.h>\n#include <IMP/core.h>\n#include <IMP/flags.h>\n\nint main(int argc, char *argv[]) {\n  IMP::setup_from_argv(argc, argv,\n                       \"Simple example of using the IMP C++ library.\");\n\n  IMP_NEW(IMP::Model, m, ());\n\n  // Create two \"untyped\" particles\n  IMP::ParticleIndex p1 = m->add_particle(\"p1\");\n  IMP::ParticleIndex p2 = m->add_particle(\"p2\");\n\n  // \"Decorate\" the particles with x,y,z attributes (point-like\n  // particles)\n  IMP::core::XYZ d1 = IMP::core::XYZ::setup_particle(m, p1);\n  IMP::core::XYZ d2 = IMP::core::XYZ::setup_particle(m, p2);\n\n  // Use some XYZ-specific functionality (set coordinates)\n  d1.set_coordinates(IMP::algebra::Vector3D(10.0, 10.0, 10.0));\n  d2.set_coordinates(IMP::algebra::Vector3D(-10.0, -10.0, -10.0));\n  std::cout << d1 << \" \" << d2 << std::endl;\n\n  return 0;\n}\n\n",
        "```"
      ]
    },
    {
      "cell_type": "markdown",
      "metadata": {},
      "source": [
        "This is a very simple C++ program that uses IMP to create an [IMP::Model](https://integrativemodeling.org/2.12.0/doc/ref/classIMP_1_1Model.html),\n",
        "make two particles in that model, and set their XYZ coordinates using the\n",
        "[IMP::core::XYZ](https://integrativemodeling.org/2.12.0/doc/ref/classIMP_1_1core_1_1XYZ.html) decorator. It is essentially identical to the first part of\n",
        "the simple Python example [in the IMP manual](https://integrativemodeling.org/2.12.0/doc/manual/library_example.html)."
      ]
    },
    {
      "cell_type": "markdown",
      "metadata": {},
      "source": [
        "# FindIMP CMake module<a id=\"findimp\"></a>\n",
        "\n",
        "The [FindIMP.cmake](https://github.com/salilab/imp_using_cpp_tutorial/blob/master/tools/FindIMP.cmake)\n",
        "file, in the `tools` subdirectory, is a script that helps CMake find your\n",
        "IMP installation. When IMP is built or installed, it creates a file called\n",
        "`IMPConfig.cmake` which contains information about how IMP was configured\n",
        "and where all the parts of IMP can be found.\n",
        "\n",
        "- If IMP is built from source (and not installed) that file can be found\n",
        "  in IMP's CMake build directory (the same directory where IMP's\n",
        "  `setup_environment.sh` is).\n",
        "- If IMP is installed, that file is placed under the library directory,\n",
        "  for example in `/usr/lib64/cmake/IMP/`.\n",
        "\n",
        "The `FindIMP.cmake` file searches common locations for the `IMPConfig.cmake`\n",
        "file. It can be copied verbatim into your own CMake projects."
      ]
    },
    {
      "cell_type": "markdown",
      "metadata": {},
      "source": [
        "# CMake script (CMakeLists.txt)<a id=\"cmakelists\"></a>\n",
        "\n",
        "The main control script for CMake is\n",
        "[CMakeLists.txt](https://github.com/salilab/imp_using_cpp_tutorial/blob/master/CMakeLists.txt).\n",
        "This is a very simple file that instructs CMake to find IMP, and build an\n",
        "executable from our input file `simple.cpp`. If you have not used CMake\n",
        "before, the [CMake tutorial](https://cmake.org/cmake-tutorial/) is a good\n",
        "introduction. Let's look at the parts in turn:\n",
        "\n",
        "```cmake\n",
        "set(CMAKE_MODULE_PATH ${CMAKE_MODULE_PATH} ${PROJECT_SOURCE_DIR}/tools)\n",
        "find_package(IMP REQUIRED)\n",
        "```\n",
        "\n",
        "This uses CMake's standard [find_package](https://cmake.org/cmake/help/v3.13/command/find_package.html)\n",
        "command to locate IMP. It relies on the `FindIMP.cmake` file from above, so\n",
        "first we need to set `CMAKE_MODULE_PATH` so that it can find that file.\n",
        "\n",
        "```cmake\n",
        "include(${IMP_USE_FILE})\n",
        "```\n",
        "\n",
        "Once IMP is found, the `IMP_USE_FILE` CMake variable is set to the path\n",
        "of a file that is part of the IMP installation containing IMP-related\n",
        "CMake functions. We can use this file with the standard CMake\n",
        "[include](https://cmake.org/cmake/help/v3.13/command/include.html) command.\n",
        "\n",
        "```cmake\n",
        "include_directories(SYSTEM ${IMP_INCLUDE_DIR})\n",
        "include_directories(SYSTEM ${EIGEN3_INCLUDE_DIR})\n",
        "include_directories(SYSTEM ${Boost_INCLUDE_DIR})\n",
        "```\n",
        "\n",
        "We can now add the IMP header files to the compiler's search path using\n",
        "CMake's [include_directories](https://cmake.org/cmake/help/v3.13/command/include_directories.html)\n",
        "command. The `SYSTEM` option here tells the compiler not to warn about any\n",
        "issues in the IMP headers (these should be addressed in IMP itself, not in\n",
        "this project). Since IMP also uses the [Eigen](http://eigen.tuxfamily.org/) and [Boost](https://www.boost.org/) packages we also need to add the directories these headers are stored in, as these may not be the same.\n",
        "\n",
        "```cmake\n",
        "add_executable(simple simple.cpp)\n",
        "```\n",
        "\n",
        "Next, we tell CMake that we want to make a single executable, `simple`, by\n",
        "compiling the `simple.cpp` C++ file.\n",
        "\n",
        "```cmake\n",
        "target_link_libraries(simple ${IMP_kernel_LIBRARY} ${IMP_core_LIBRARY})\n",
        "```\n",
        "\n",
        "Finally, we tell CMake that when we link the `simple` executable, we need\n",
        "to link it against the IMP [kernel](https://integrativemodeling.org/2.12.0/doc/ref/namespaceIMP.html) and the [IMP::core](https://integrativemodeling.org/2.12.0/doc/ref/namespaceIMP_1_1core.html) module."
      ]
    },
    {
      "cell_type": "markdown",
      "metadata": {},
      "source": [
        "# Build and run<a id=\"buildrun\"></a>\n",
        "\n",
        "We can now configure this project from the top-level directory (the one\n",
        "containing `simple.cpp` and `CMakeLists.txt`) by making a build directory\n",
        "and running CMake in it:\n",
        "\n",
        "```bash\n",
        "mkdir build\n",
        "cd build\n",
        "cmake ..\n",
        "```\n",
        "\n",
        "If this fails to find IMP, you can set the `IMP_DIR` environment variable\n",
        "or CMake variable to the path containing `IMPConfig.cmake` to help it out:\n",
        "\n",
        "```bash\n",
        "cmake .. -DIMP_DIR=/home/user/imp/release\n",
        "```\n",
        "\n",
        "Once CMake completes succcessfully, we can build and run our program in the\n",
        "normal way, for example using\n",
        "\n",
        "```bash\n",
        "make\n",
        "./simple\n",
        "```\n",
        "\n",
        "> On Linux and Mac systems CMake will typically generate makefiles.\n",
        "> You can have it generate files for other build systems using the `-G`\n",
        "> option. For example, `cmake -G Ninja` will generate files for the\n",
        "> [Ninja build tool](https://ninja-build.org/), which is typically faster\n",
        "> than traditional make for larger projects."
      ]
    }
  ],
  "metadata": {
    "kernelspec": {
      "display_name": "Python 3",
      "language": "python",
      "name": "python3"
    },
    "language_info": {
      "codemirror_mode": {
        "name": "ipython",
        "version": 3
      },
      "file_extension": ".py",
      "mimetype": "text/x-python",
      "name": "python",
      "nbconvert_exporter": "python",
      "pygments_lexer": "ipython3",
      "version": "3.7.7"
    }
  },
  "nbformat": 4,
  "nbformat_minor": 4
}